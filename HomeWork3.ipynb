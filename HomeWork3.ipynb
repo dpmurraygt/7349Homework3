{
 "cells": [
  {
   "cell_type": "markdown",
   "metadata": {},
   "source": [
    "Dennis Murray\n",
    "MSDS 7349\n",
    "Homework 3"
   ]
  },
  {
   "cell_type": "code",
   "execution_count": 23,
   "metadata": {
    "collapsed": false
   },
   "outputs": [
    {
     "name": "stdout",
     "output_type": "stream",
     "text": [
      "68 a\n"
     ]
    }
   ],
   "source": [
    "letter = \"D\"\n",
    "# converts a letter to ascii code \n",
    "ascii_code = ord(letter)\n",
    "# converts ascii code to a letter \n",
    "letter_res = chr(asciiCode)\n",
    "print (ascii_code, letter_res)"
   ]
  },
  {
   "cell_type": "markdown",
   "metadata": {},
   "source": [
    "Exercise 1: Simple Substitution Cipher\n"
   ]
  },
  {
   "cell_type": "code",
   "execution_count": 20,
   "metadata": {
    "collapsed": false
   },
   "outputs": [
    {
     "name": "stdout",
     "output_type": "stream",
     "text": [
      "Enter phrase to encode: Dennis\n",
      "enter shift value: 10\n",
      "Dennis\n"
     ]
    }
   ],
   "source": [
    "import readline\n",
    "phrase=input(\"Enter phrase to encode: \")\n",
    "shift=input(\"enter shift value: \")\n",
    "\n",
    "\n",
    "encodedPhrase = \"\"\n",
    "for c in phrase:\n",
    "    encodedPhrase = encodedPhrase + c\n",
    "\n",
    "print(encodedPhrase)"
   ]
  },
  {
   "cell_type": "markdown",
   "metadata": {},
   "source": [
    "The loop as written walks through the phrase supplied one character at a time, and rebuilds the original phrase one character at a time.  The shift character or conversion to ASCII was not applied."
   ]
  },
  {
   "cell_type": "code",
   "execution_count": 91,
   "metadata": {
    "collapsed": false
   },
   "outputs": [
    {
     "name": "stdout",
     "output_type": "stream",
     "text": [
      "Enter phrase to encode: Mayday! Mayday!\n",
      "enter shift value: 4\n",
      "Qechec! Qechec!\n"
     ]
    }
   ],
   "source": [
    "#Combine the two pieces of information we've received already\n",
    "\n",
    "import readline\n",
    "#Get the phrase to encode\n",
    "phrase=input(\"Enter phrase to encode: \")\n",
    "\n",
    "#get the shift value\n",
    "shift=int(input(\"enter shift value: \"))\n",
    "\n",
    "#empty variable to build our encoded data into\n",
    "encodedPhrase = \"\"\n",
    "\n",
    "#walk through the phrase, 1 character at a time\n",
    "for c in phrase:\n",
    "    #Convert the character to numeric value, shift it, and then return it as a character\n",
    "    #Test to see if the condition of being alphabetic is met\n",
    "    if c.isalpha():\n",
    "        #if it's met shift the value by the indicated amount\n",
    "        #our shifted value needs to stay in the range of 65 to 122\n",
    "        #because that's what corresponds to \"A\" to \"z\" (note capital and lowers...it's important and different)\n",
    "        #\"A\" is 65\n",
    "        #\"Z\" is 90\n",
    "        #\"a\" is 97\n",
    "        #\"z\" is 122\n",
    "        #logical test: is c in range of <=90...this encompasses UPPER CASE letters\n",
    "        if ord(c)<=90:\n",
    "            #This will add the shift, subtract 64 (as \"A\"=65 and not 1) and then mod the value, and\n",
    "            #then add the 64 back in to give us a char #\n",
    "            #and then convert it back to the character\n",
    "            #and append it to the phrase\n",
    "            encodedPhrase = encodedPhrase + chr((ord(c)+shift-64)%26+64)\n",
    "        else:\n",
    "            #Here's where we will handle lower case values\n",
    "            #we still mod 26 as there are 26 letters in the alphabet\n",
    "            #but we use 96 as the add/subtract value as \"a\" = 96\n",
    "            encodedPhrase = encodedPhrase + chr((ord(c)+shift-96)%26+96)\n",
    "    #bypass both of these tests if it's not an alphabetic character\n",
    "    else:\n",
    "        #otherwise just add it to the phrase\n",
    "        encodedPhrase = encodedPhrase + c\n",
    "\n",
    "\n",
    "#print the value out\n",
    "print(encodedPhrase)"
   ]
  },
  {
   "cell_type": "markdown",
   "metadata": {},
   "source": [
    "Exercise 2: Breaking a Simple Cypher\n",
    "\n",
    "Better than brute force technique\n",
    "Find most common character in the string and assume it's E/e\n",
    "Assume most common Char == \"e\" or \"E\"\n",
    "Work down from there!"
   ]
  },
  {
   "cell_type": "markdown",
   "metadata": {},
   "source": [
    "Exercise 3: AES"
   ]
  },
  {
   "cell_type": "code",
   "execution_count": 161,
   "metadata": {
    "collapsed": false
   },
   "outputs": [
    {
     "name": "stdout",
     "output_type": "stream",
     "text": [
      "2362\n",
      "1417\n"
     ]
    },
    {
     "ename": "AttributeError",
     "evalue": "'JpegImageFile' object has no attribute '_get_sizes_'",
     "output_type": "error",
     "traceback": [
      "\u001b[0;31m---------------------------------------------------------------------------\u001b[0m",
      "\u001b[0;31mAttributeError\u001b[0m                            Traceback (most recent call last)",
      "\u001b[0;32m<ipython-input-161-66ee028db62a>\u001b[0m in \u001b[0;36m<module>\u001b[0;34m()\u001b[0m\n\u001b[1;32m     12\u001b[0m \u001b[0mprint\u001b[0m\u001b[0;34m(\u001b[0m\u001b[0mlogo\u001b[0m\u001b[0;34m.\u001b[0m\u001b[0mwidth\u001b[0m\u001b[0;34m)\u001b[0m\u001b[0;34m\u001b[0m\u001b[0m\n\u001b[1;32m     13\u001b[0m \u001b[0mprint\u001b[0m\u001b[0;34m(\u001b[0m\u001b[0mlogo\u001b[0m\u001b[0;34m.\u001b[0m\u001b[0mheight\u001b[0m\u001b[0;34m)\u001b[0m\u001b[0;34m\u001b[0m\u001b[0m\n\u001b[0;32m---> 14\u001b[0;31m \u001b[0mprint\u001b[0m\u001b[0;34m(\u001b[0m\u001b[0mlogo\u001b[0m\u001b[0;34m.\u001b[0m\u001b[0m_get_sizes_\u001b[0m\u001b[0;34m)\u001b[0m\u001b[0;34m\u001b[0m\u001b[0m\n\u001b[0m\u001b[1;32m     15\u001b[0m \u001b[0mlogo\u001b[0m\u001b[0;34m.\u001b[0m\u001b[0mshow\u001b[0m\u001b[0;34m(\u001b[0m\u001b[0;34m)\u001b[0m\u001b[0;34m\u001b[0m\u001b[0m\n\u001b[1;32m     16\u001b[0m \u001b[0;34m\u001b[0m\u001b[0m\n",
      "\u001b[0;31mAttributeError\u001b[0m: 'JpegImageFile' object has no attribute '_get_sizes_'"
     ]
    }
   ],
   "source": [
    "#AES-128 implementation in Python\n",
    "#documentation source: http://pythonhosted.org/pycrypto/\n",
    "#StackOverflow Thread: http://stackoverflow.com/questions/29039773/produce-the-ecb-penguin-with-aes-in-python\n",
    "from Crypto.Cipher import AES\n",
    "from PIL import Image\n",
    "%matplotlib inline\n",
    "\n",
    "import binascii\n",
    "import os\n",
    "\n",
    "logo = Image.open(\"redbulllogo.jpg\")\n",
    "\n",
    "print(logo.width)\n",
    "print(logo.height)\n",
    "    print(logo._get_sizes_)\n",
    "logo.show()\n",
    "\n",
    "#define a key.  for AES128 it must be 16 bytes long\n",
    "mykey = \"SMUMarchMadNeSsS\"\n",
    "\n",
    "#teststring=\"encrypt this string now and then I'm printing the results\"\n",
    "\n",
    "#With a 16 bit key we need to make sure the length of our file is a 16 divisible number\n",
    "#if it isn't already, we will pad the back end of it with spaces\n",
    "\n",
    "#if len(logo.width)%len(mykey)!=0:\n",
    "#     += ' ' * (len(mykey)-len(teststring)%len(mykey))\n",
    "\n",
    "\n"
   ]
  },
  {
   "cell_type": "code",
   "execution_count": 150,
   "metadata": {
    "collapsed": false
   },
   "outputs": [
    {
     "data": {
      "text/plain": [
       "2362"
      ]
     },
     "execution_count": 150,
     "metadata": {},
     "output_type": "execute_result"
    }
   ],
   "source": [
    "#define a key.  for AES128 it must be 16 bytes long\n",
    "mykey = \"SMUMarchMadNeSsS\"\n",
    "\n",
    "#teststring=\"encrypt this string now and then I'm printing the results\"\n",
    "\n",
    "#With a 16 bit key we need to make sure the length of our file is a 16 divisible number\n",
    "#if it isn't already, we will pad the back end of it with spaces\n",
    "\n",
    "if len(teststring)%len(mykey)!=0:\n",
    "    teststring += ' ' * (len(mykey)-len(teststring)%len(mykey))\n",
    "\n",
    "print(teststring)\n",
    "#CBC Mode\n",
    "#MODE_CBC = 2\n",
    "cipher = AES.new(mykey, AES.MODE_CBC, IV='1234567890123456')\n",
    "\n",
    "encryptedstring=(cipher.encrypt(teststring))\n",
    "\n",
    "print(encryptedstring)\n",
    "print(cipher.decrypt(encryptedstring))\n",
    "\n",
    "#CTR Mode\n",
    "#MODE_CTR = 6\n",
    "\n",
    "#ECB Mode\n",
    "#MODE_ECB = 1\n",
    "\n"
   ]
  },
  {
   "cell_type": "code",
   "execution_count": 136,
   "metadata": {
    "collapsed": false
   },
   "outputs": [
    {
     "data": {
      "text/plain": [
       "64"
      ]
     },
     "execution_count": 136,
     "metadata": {},
     "output_type": "execute_result"
    }
   ],
   "source": [
    "len(teststring)"
   ]
  },
  {
   "cell_type": "code",
   "execution_count": 125,
   "metadata": {
    "collapsed": false
   },
   "outputs": [
    {
     "data": {
      "text/plain": [
       "9"
      ]
     },
     "execution_count": 125,
     "metadata": {},
     "output_type": "execute_result"
    }
   ],
   "source": [
    "len(teststring)%len(mykey)"
   ]
  },
  {
   "cell_type": "code",
   "execution_count": 171,
   "metadata": {
    "collapsed": false
   },
   "outputs": [
    {
     "ename": "ImportError",
     "evalue": "cannot import name 'URLopener'",
     "output_type": "error",
     "traceback": [
      "\u001b[0;31m---------------------------------------------------------------------------\u001b[0m",
      "\u001b[0;31mImportError\u001b[0m                               Traceback (most recent call last)",
      "\u001b[0;32m<ipython-input-171-7c60625ab64c>\u001b[0m in \u001b[0;36m<module>\u001b[0;34m()\u001b[0m\n\u001b[1;32m      3\u001b[0m \u001b[0;32mfrom\u001b[0m \u001b[0mCrypto\u001b[0m\u001b[0;34m.\u001b[0m\u001b[0mCipher\u001b[0m \u001b[0;32mimport\u001b[0m \u001b[0mAES\u001b[0m\u001b[0;34m\u001b[0m\u001b[0m\n\u001b[1;32m      4\u001b[0m \u001b[0;32mfrom\u001b[0m \u001b[0mPIL\u001b[0m \u001b[0;32mimport\u001b[0m \u001b[0mImage\u001b[0m\u001b[0;34m\u001b[0m\u001b[0m\n\u001b[0;32m----> 5\u001b[0;31m \u001b[0;32mfrom\u001b[0m \u001b[0murllib\u001b[0m \u001b[0;32mimport\u001b[0m \u001b[0mURLopener\u001b[0m\u001b[0;34m\u001b[0m\u001b[0m\n\u001b[0m\u001b[1;32m      6\u001b[0m \u001b[0;34m\u001b[0m\u001b[0m\n\u001b[1;32m      7\u001b[0m \u001b[0;32mclass\u001b[0m \u001b[0mECBPenguin\u001b[0m\u001b[0;34m(\u001b[0m\u001b[0mobject\u001b[0m\u001b[0;34m)\u001b[0m\u001b[0;34m:\u001b[0m\u001b[0;34m\u001b[0m\u001b[0m\n",
      "\u001b[0;31mImportError\u001b[0m: cannot import name 'URLopener'"
     ]
    }
   ],
   "source": [
    "#!/usr/bin/python\n",
    "import binascii, os.path, random\n",
    "from Crypto.Cipher import AES\n",
    "from PIL import Image\n",
    "from urllib import URLopener\n",
    "\n",
    "class ECBPenguin(object):\n",
    "    '''\n",
    "    A penguin class\n",
    "    '''\n",
    "    def __init__(self, img_clr=\"\"):\n",
    "        if not img_clr:\n",
    "            self.__demo_image__()\n",
    "            self.img_clr = \"tux_clear.bmp\"\n",
    "        else:\n",
    "            self.img_clr = img_clr\n",
    "        self.__get_header__()\n",
    "\n",
    "    def __demo_image__(self):\n",
    "        ''' \n",
    "        Downloads a TUX image compatible for this program: square and with size multiple of 16\n",
    "        '''\n",
    "        print(\"Downloading image...\")\n",
    "        image = urllib.URLopener()\n",
    "        image.retrieve(\"http://fp-games.googlecode.com/svn/trunk/CodeWeek1/graviTux/data/tux.bmp\",\"tux_clear.bmp\") \n",
    "\n",
    "    def __get_sizes__(self, dibheader):\n",
    "        # Get image's dimensions (at offsets 4 and 8 of the DIB header)\n",
    "        DIBheader = []\n",
    "        for i in range(0,80,2):\n",
    "            DIBheader.append(int(binascii.hexlify(dibheader)[i:i+2],16))\n",
    "        self.width = sum([DIBheader[i+4]*256**i for i in range(0,4)])\n",
    "        self.height = sum([DIBheader[i+8]*256**i for i in range(0,4)])\n",
    "\n",
    "    def __get_header__(self):\n",
    "        '''\n",
    "        Read BMP and DIB headers from input image and write them to output image\n",
    "        '''\n",
    "        f_in = open(self.img_clr, 'rb')\n",
    "        # BMP is 14 bytes\n",
    "        bmpheader = f_in.read(14)\n",
    "        # DIB is 40 bytes\n",
    "        dibheader = f_in.read(40)\n",
    "        self.__get_sizes__(dibheader)\n",
    "        self._bmpheader = bmpheader\n",
    "        self._dibheader = dibheader\n",
    "        f_in.close()\n",
    "\n",
    "    def encrypt(self, img_enc = \"tux_enc.bmp\", key = '0123456789abcdef'):\n",
    "        '''\n",
    "        Encrypt the my_penguin\n",
    "        '''\n",
    "        self.img_enc = img_enc\n",
    "        f_in = open(self.img_clr, 'rb')\n",
    "        f_out = open(img_enc, 'wb')\n",
    "        f_out.write(self._bmpheader)\n",
    "        f_out.write(self._dibheader)\n",
    "        row_padded = (self.width * self.height * 3)\n",
    "        image_data = f_in.read(row_padded)\n",
    "        cleartext =  binascii.unhexlify(binascii.hexlify(image_data))\n",
    "\n",
    "        # Initialization Vector\n",
    "        IV = ''.join(chr(random.randint(0, 0xFF)) for i in range(16))\n",
    "        # AES ECB mode\n",
    "        mode = AES.MODE_ECB\n",
    "        # Encryptor\n",
    "        encryptor = AES.new(key, mode, IV=IV)\n",
    "        # Perform the encryption and write output to file\n",
    "        f_out.write(encryptor.encrypt(cleartext))\n",
    "        f_in.close()\n",
    "        f_out.close()\n",
    "\n",
    "    def show_clr(self):\n",
    "        '''\n",
    "        Display cleartext penguin\n",
    "        '''\n",
    "        im = Image.open(self.img_clr)\n",
    "        im.show()\n",
    "\n",
    "    def show_enc(self):\n",
    "        '''\n",
    "        Display ciphertext penguin\n",
    "        '''\n",
    "        im = Image.open(self.img_enc)\n",
    "        im.show()\n",
    "\n",
    "def main():\n",
    "    my_penguin = ECBPenguin()\n",
    "    my_penguin.show_clr()\n",
    "    my_penguin.encrypt()\n",
    "    my_penguin.show_enc()\n",
    "\n",
    "if __name__ == \"__main__\":\n",
    "    main()"
   ]
  },
  {
   "cell_type": "code",
   "execution_count": null,
   "metadata": {
    "collapsed": true
   },
   "outputs": [],
   "source": []
  }
 ],
 "metadata": {
  "kernelspec": {
   "display_name": "Python [default]",
   "language": "python",
   "name": "python3"
  },
  "language_info": {
   "codemirror_mode": {
    "name": "ipython",
    "version": 3
   },
   "file_extension": ".py",
   "mimetype": "text/x-python",
   "name": "python",
   "nbconvert_exporter": "python",
   "pygments_lexer": "ipython3",
   "version": "3.5.3"
  }
 },
 "nbformat": 4,
 "nbformat_minor": 2
}
